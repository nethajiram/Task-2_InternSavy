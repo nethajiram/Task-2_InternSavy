{
 "cells": [
  {
   "cell_type": "code",
   "execution_count": 1,
   "id": "8ed6a317",
   "metadata": {
    "_cell_guid": "b1076dfc-b9ad-4769-8c92-a6c4dae69d19",
    "_uuid": "8f2839f25d086af736a60e9eeb907d3b93b6e0e5",
    "execution": {
     "iopub.execute_input": "2023-07-31T11:25:23.766178Z",
     "iopub.status.busy": "2023-07-31T11:25:23.765446Z",
     "iopub.status.idle": "2023-07-31T11:25:23.780305Z",
     "shell.execute_reply": "2023-07-31T11:25:23.779511Z"
    },
    "papermill": {
     "duration": 0.032772,
     "end_time": "2023-07-31T11:25:23.783138",
     "exception": false,
     "start_time": "2023-07-31T11:25:23.750366",
     "status": "completed"
    },
    "tags": []
   },
   "outputs": [
    {
     "name": "stdout",
     "output_type": "stream",
     "text": [
      "/kaggle/input/mall-customers\n"
     ]
    }
   ],
   "source": [
    "cd /kaggle/input/mall-customers"
   ]
  },
  {
   "cell_type": "code",
   "execution_count": 2,
   "id": "f6b36d04",
   "metadata": {
    "execution": {
     "iopub.execute_input": "2023-07-31T11:25:23.811212Z",
     "iopub.status.busy": "2023-07-31T11:25:23.810552Z",
     "iopub.status.idle": "2023-07-31T11:25:25.291954Z",
     "shell.execute_reply": "2023-07-31T11:25:25.290679Z"
    },
    "papermill": {
     "duration": 1.498899,
     "end_time": "2023-07-31T11:25:25.295069",
     "exception": false,
     "start_time": "2023-07-31T11:25:23.796170",
     "status": "completed"
    },
    "tags": []
   },
   "outputs": [
    {
     "name": "stderr",
     "output_type": "stream",
     "text": [
      "/opt/conda/lib/python3.10/site-packages/scipy/__init__.py:146: UserWarning: A NumPy version >=1.16.5 and <1.23.0 is required for this version of SciPy (detected version 1.23.5\n",
      "  warnings.warn(f\"A NumPy version >={np_minversion} and <{np_maxversion}\"\n"
     ]
    }
   ],
   "source": [
    "import pandas as pd\n",
    "import numpy as np\n",
    "import matplotlib.pyplot as plt\n",
    "%matplotlib inline\n",
    "import seaborn as sns\n",
    "import warnings"
   ]
  },
  {
   "cell_type": "code",
   "execution_count": 3,
   "id": "40496e32",
   "metadata": {
    "execution": {
     "iopub.execute_input": "2023-07-31T11:25:25.324977Z",
     "iopub.status.busy": "2023-07-31T11:25:25.323850Z",
     "iopub.status.idle": "2023-07-31T11:25:25.363581Z",
     "shell.execute_reply": "2023-07-31T11:25:25.362280Z"
    },
    "papermill": {
     "duration": 0.057909,
     "end_time": "2023-07-31T11:25:25.366030",
     "exception": false,
     "start_time": "2023-07-31T11:25:25.308121",
     "status": "completed"
    },
    "tags": []
   },
   "outputs": [
    {
     "data": {
      "text/html": [
       "<div>\n",
       "<style scoped>\n",
       "    .dataframe tbody tr th:only-of-type {\n",
       "        vertical-align: middle;\n",
       "    }\n",
       "\n",
       "    .dataframe tbody tr th {\n",
       "        vertical-align: top;\n",
       "    }\n",
       "\n",
       "    .dataframe thead th {\n",
       "        text-align: right;\n",
       "    }\n",
       "</style>\n",
       "<table border=\"1\" class=\"dataframe\">\n",
       "  <thead>\n",
       "    <tr style=\"text-align: right;\">\n",
       "      <th></th>\n",
       "      <th>CustomerID</th>\n",
       "      <th>Genre</th>\n",
       "      <th>Age</th>\n",
       "      <th>Annual Income (k$)</th>\n",
       "      <th>Spending Score (1-100)</th>\n",
       "    </tr>\n",
       "  </thead>\n",
       "  <tbody>\n",
       "    <tr>\n",
       "      <th>0</th>\n",
       "      <td>1</td>\n",
       "      <td>Male</td>\n",
       "      <td>19</td>\n",
       "      <td>15</td>\n",
       "      <td>39</td>\n",
       "    </tr>\n",
       "    <tr>\n",
       "      <th>1</th>\n",
       "      <td>2</td>\n",
       "      <td>Male</td>\n",
       "      <td>21</td>\n",
       "      <td>15</td>\n",
       "      <td>81</td>\n",
       "    </tr>\n",
       "    <tr>\n",
       "      <th>2</th>\n",
       "      <td>3</td>\n",
       "      <td>Female</td>\n",
       "      <td>20</td>\n",
       "      <td>16</td>\n",
       "      <td>6</td>\n",
       "    </tr>\n",
       "    <tr>\n",
       "      <th>3</th>\n",
       "      <td>4</td>\n",
       "      <td>Female</td>\n",
       "      <td>23</td>\n",
       "      <td>16</td>\n",
       "      <td>77</td>\n",
       "    </tr>\n",
       "    <tr>\n",
       "      <th>4</th>\n",
       "      <td>5</td>\n",
       "      <td>Female</td>\n",
       "      <td>31</td>\n",
       "      <td>17</td>\n",
       "      <td>40</td>\n",
       "    </tr>\n",
       "  </tbody>\n",
       "</table>\n",
       "</div>"
      ],
      "text/plain": [
       "   CustomerID   Genre  Age  Annual Income (k$)  Spending Score (1-100)\n",
       "0           1    Male   19                  15                      39\n",
       "1           2    Male   21                  15                      81\n",
       "2           3  Female   20                  16                       6\n",
       "3           4  Female   23                  16                      77\n",
       "4           5  Female   31                  17                      40"
      ]
     },
     "execution_count": 3,
     "metadata": {},
     "output_type": "execute_result"
    }
   ],
   "source": [
    "df = pd.read_csv(\"Mall_Customers.csv\",na_values=['.',':','?','!','@','#','$','%','^','&','*',','])\n",
    "df.head()"
   ]
  },
  {
   "cell_type": "markdown",
   "id": "1e0d7d6a",
   "metadata": {
    "papermill": {
     "duration": 0.012989,
     "end_time": "2023-07-31T11:25:25.392260",
     "exception": false,
     "start_time": "2023-07-31T11:25:25.379271",
     "status": "completed"
    },
    "tags": []
   },
   "source": [
    "# EDA"
   ]
  },
  {
   "cell_type": "code",
   "execution_count": 4,
   "id": "808fb42b",
   "metadata": {
    "execution": {
     "iopub.execute_input": "2023-07-31T11:25:25.421016Z",
     "iopub.status.busy": "2023-07-31T11:25:25.420189Z",
     "iopub.status.idle": "2023-07-31T11:25:25.426285Z",
     "shell.execute_reply": "2023-07-31T11:25:25.425024Z"
    },
    "papermill": {
     "duration": 0.023164,
     "end_time": "2023-07-31T11:25:25.428955",
     "exception": false,
     "start_time": "2023-07-31T11:25:25.405791",
     "status": "completed"
    },
    "tags": []
   },
   "outputs": [
    {
     "name": "stdout",
     "output_type": "stream",
     "text": [
      "(200, 5)\n"
     ]
    }
   ],
   "source": [
    "print(df.shape)"
   ]
  },
  {
   "cell_type": "code",
   "execution_count": 5,
   "id": "5d7f811e",
   "metadata": {
    "execution": {
     "iopub.execute_input": "2023-07-31T11:25:25.457855Z",
     "iopub.status.busy": "2023-07-31T11:25:25.456799Z",
     "iopub.status.idle": "2023-07-31T11:25:25.483055Z",
     "shell.execute_reply": "2023-07-31T11:25:25.481819Z"
    },
    "papermill": {
     "duration": 0.043474,
     "end_time": "2023-07-31T11:25:25.485771",
     "exception": false,
     "start_time": "2023-07-31T11:25:25.442297",
     "status": "completed"
    },
    "tags": []
   },
   "outputs": [
    {
     "name": "stdout",
     "output_type": "stream",
     "text": [
      "<class 'pandas.core.frame.DataFrame'>\n",
      "RangeIndex: 200 entries, 0 to 199\n",
      "Data columns (total 5 columns):\n",
      " #   Column                  Non-Null Count  Dtype \n",
      "---  ------                  --------------  ----- \n",
      " 0   CustomerID              200 non-null    int64 \n",
      " 1   Genre                   200 non-null    object\n",
      " 2   Age                     200 non-null    int64 \n",
      " 3   Annual Income (k$)      200 non-null    int64 \n",
      " 4   Spending Score (1-100)  200 non-null    int64 \n",
      "dtypes: int64(4), object(1)\n",
      "memory usage: 7.9+ KB\n"
     ]
    }
   ],
   "source": [
    "df.info()"
   ]
  },
  {
   "cell_type": "code",
   "execution_count": 6,
   "id": "43a7aba5",
   "metadata": {
    "execution": {
     "iopub.execute_input": "2023-07-31T11:25:25.514340Z",
     "iopub.status.busy": "2023-07-31T11:25:25.513952Z",
     "iopub.status.idle": "2023-07-31T11:25:25.525759Z",
     "shell.execute_reply": "2023-07-31T11:25:25.524585Z"
    },
    "papermill": {
     "duration": 0.029132,
     "end_time": "2023-07-31T11:25:25.528049",
     "exception": false,
     "start_time": "2023-07-31T11:25:25.498917",
     "status": "completed"
    },
    "tags": []
   },
   "outputs": [
    {
     "data": {
      "text/plain": [
       "CustomerID                200\n",
       "Genre                       2\n",
       "Age                        51\n",
       "Annual Income (k$)         64\n",
       "Spending Score (1-100)     84\n",
       "dtype: int64"
      ]
     },
     "execution_count": 6,
     "metadata": {},
     "output_type": "execute_result"
    }
   ],
   "source": [
    "df.nunique()"
   ]
  },
  {
   "cell_type": "code",
   "execution_count": 7,
   "id": "a5f6e46c",
   "metadata": {
    "execution": {
     "iopub.execute_input": "2023-07-31T11:25:25.557065Z",
     "iopub.status.busy": "2023-07-31T11:25:25.556382Z",
     "iopub.status.idle": "2023-07-31T11:25:25.563125Z",
     "shell.execute_reply": "2023-07-31T11:25:25.561922Z"
    },
    "papermill": {
     "duration": 0.024367,
     "end_time": "2023-07-31T11:25:25.565688",
     "exception": false,
     "start_time": "2023-07-31T11:25:25.541321",
     "status": "completed"
    },
    "tags": []
   },
   "outputs": [
    {
     "data": {
      "text/plain": [
       "Index(['CustomerID', 'Genre', 'Age', 'Annual Income (k$)',\n",
       "       'Spending Score (1-100)'],\n",
       "      dtype='object')"
      ]
     },
     "execution_count": 7,
     "metadata": {},
     "output_type": "execute_result"
    }
   ],
   "source": [
    "df.columns"
   ]
  },
  {
   "cell_type": "code",
   "execution_count": 8,
   "id": "c689f640",
   "metadata": {
    "execution": {
     "iopub.execute_input": "2023-07-31T11:25:25.595317Z",
     "iopub.status.busy": "2023-07-31T11:25:25.594897Z",
     "iopub.status.idle": "2023-07-31T11:25:25.599751Z",
     "shell.execute_reply": "2023-07-31T11:25:25.598527Z"
    },
    "papermill": {
     "duration": 0.022231,
     "end_time": "2023-07-31T11:25:25.602094",
     "exception": false,
     "start_time": "2023-07-31T11:25:25.579863",
     "status": "completed"
    },
    "tags": []
   },
   "outputs": [],
   "source": [
    "cat_cols=['Genre']"
   ]
  },
  {
   "cell_type": "code",
   "execution_count": 9,
   "id": "0e3b400e",
   "metadata": {
    "execution": {
     "iopub.execute_input": "2023-07-31T11:25:25.632398Z",
     "iopub.status.busy": "2023-07-31T11:25:25.631670Z",
     "iopub.status.idle": "2023-07-31T11:25:25.636636Z",
     "shell.execute_reply": "2023-07-31T11:25:25.635603Z"
    },
    "papermill": {
     "duration": 0.022726,
     "end_time": "2023-07-31T11:25:25.639066",
     "exception": false,
     "start_time": "2023-07-31T11:25:25.616340",
     "status": "completed"
    },
    "tags": []
   },
   "outputs": [],
   "source": [
    "num_cols=['Age','Annual Income (k$)']"
   ]
  },
  {
   "cell_type": "code",
   "execution_count": 10,
   "id": "bcda0ffc",
   "metadata": {
    "execution": {
     "iopub.execute_input": "2023-07-31T11:25:25.668908Z",
     "iopub.status.busy": "2023-07-31T11:25:25.668242Z",
     "iopub.status.idle": "2023-07-31T11:25:25.676260Z",
     "shell.execute_reply": "2023-07-31T11:25:25.675019Z"
    },
    "papermill": {
     "duration": 0.025995,
     "end_time": "2023-07-31T11:25:25.678522",
     "exception": false,
     "start_time": "2023-07-31T11:25:25.652527",
     "status": "completed"
    },
    "tags": []
   },
   "outputs": [],
   "source": [
    "df[cat_cols]=df[cat_cols].astype('category')"
   ]
  },
  {
   "cell_type": "code",
   "execution_count": 11,
   "id": "253406c9",
   "metadata": {
    "execution": {
     "iopub.execute_input": "2023-07-31T11:25:25.707880Z",
     "iopub.status.busy": "2023-07-31T11:25:25.707063Z",
     "iopub.status.idle": "2023-07-31T11:25:25.715011Z",
     "shell.execute_reply": "2023-07-31T11:25:25.713851Z"
    },
    "papermill": {
     "duration": 0.025389,
     "end_time": "2023-07-31T11:25:25.717535",
     "exception": false,
     "start_time": "2023-07-31T11:25:25.692146",
     "status": "completed"
    },
    "tags": []
   },
   "outputs": [
    {
     "data": {
      "text/plain": [
       "CustomerID                   int64\n",
       "Genre                     category\n",
       "Age                          int64\n",
       "Annual Income (k$)           int64\n",
       "Spending Score (1-100)       int64\n",
       "dtype: object"
      ]
     },
     "execution_count": 11,
     "metadata": {},
     "output_type": "execute_result"
    }
   ],
   "source": [
    "df.dtypes\n"
   ]
  },
  {
   "cell_type": "code",
   "execution_count": 12,
   "id": "9b782929",
   "metadata": {
    "execution": {
     "iopub.execute_input": "2023-07-31T11:25:25.747880Z",
     "iopub.status.busy": "2023-07-31T11:25:25.747296Z",
     "iopub.status.idle": "2023-07-31T11:25:25.754971Z",
     "shell.execute_reply": "2023-07-31T11:25:25.753657Z"
    },
    "papermill": {
     "duration": 0.026187,
     "end_time": "2023-07-31T11:25:25.757415",
     "exception": false,
     "start_time": "2023-07-31T11:25:25.731228",
     "status": "completed"
    },
    "tags": []
   },
   "outputs": [],
   "source": [
    "# Drop the CustomerID column\n",
    "df = df.drop('CustomerID', axis=1)"
   ]
  },
  {
   "cell_type": "code",
   "execution_count": 13,
   "id": "29ac0ff9",
   "metadata": {
    "execution": {
     "iopub.execute_input": "2023-07-31T11:25:25.786124Z",
     "iopub.status.busy": "2023-07-31T11:25:25.785737Z",
     "iopub.status.idle": "2023-07-31T11:25:25.802480Z",
     "shell.execute_reply": "2023-07-31T11:25:25.801354Z"
    },
    "papermill": {
     "duration": 0.03389,
     "end_time": "2023-07-31T11:25:25.804805",
     "exception": false,
     "start_time": "2023-07-31T11:25:25.770915",
     "status": "completed"
    },
    "tags": []
   },
   "outputs": [
    {
     "data": {
      "text/html": [
       "<div>\n",
       "<style scoped>\n",
       "    .dataframe tbody tr th:only-of-type {\n",
       "        vertical-align: middle;\n",
       "    }\n",
       "\n",
       "    .dataframe tbody tr th {\n",
       "        vertical-align: top;\n",
       "    }\n",
       "\n",
       "    .dataframe thead th {\n",
       "        text-align: right;\n",
       "    }\n",
       "</style>\n",
       "<table border=\"1\" class=\"dataframe\">\n",
       "  <thead>\n",
       "    <tr style=\"text-align: right;\">\n",
       "      <th></th>\n",
       "      <th>Genre</th>\n",
       "      <th>Age</th>\n",
       "      <th>Annual Income (k$)</th>\n",
       "      <th>Spending Score (1-100)</th>\n",
       "    </tr>\n",
       "  </thead>\n",
       "  <tbody>\n",
       "    <tr>\n",
       "      <th>0</th>\n",
       "      <td>Male</td>\n",
       "      <td>19</td>\n",
       "      <td>15</td>\n",
       "      <td>39</td>\n",
       "    </tr>\n",
       "    <tr>\n",
       "      <th>1</th>\n",
       "      <td>Male</td>\n",
       "      <td>21</td>\n",
       "      <td>15</td>\n",
       "      <td>81</td>\n",
       "    </tr>\n",
       "    <tr>\n",
       "      <th>2</th>\n",
       "      <td>Female</td>\n",
       "      <td>20</td>\n",
       "      <td>16</td>\n",
       "      <td>6</td>\n",
       "    </tr>\n",
       "    <tr>\n",
       "      <th>3</th>\n",
       "      <td>Female</td>\n",
       "      <td>23</td>\n",
       "      <td>16</td>\n",
       "      <td>77</td>\n",
       "    </tr>\n",
       "    <tr>\n",
       "      <th>4</th>\n",
       "      <td>Female</td>\n",
       "      <td>31</td>\n",
       "      <td>17</td>\n",
       "      <td>40</td>\n",
       "    </tr>\n",
       "    <tr>\n",
       "      <th>...</th>\n",
       "      <td>...</td>\n",
       "      <td>...</td>\n",
       "      <td>...</td>\n",
       "      <td>...</td>\n",
       "    </tr>\n",
       "    <tr>\n",
       "      <th>195</th>\n",
       "      <td>Female</td>\n",
       "      <td>35</td>\n",
       "      <td>120</td>\n",
       "      <td>79</td>\n",
       "    </tr>\n",
       "    <tr>\n",
       "      <th>196</th>\n",
       "      <td>Female</td>\n",
       "      <td>45</td>\n",
       "      <td>126</td>\n",
       "      <td>28</td>\n",
       "    </tr>\n",
       "    <tr>\n",
       "      <th>197</th>\n",
       "      <td>Male</td>\n",
       "      <td>32</td>\n",
       "      <td>126</td>\n",
       "      <td>74</td>\n",
       "    </tr>\n",
       "    <tr>\n",
       "      <th>198</th>\n",
       "      <td>Male</td>\n",
       "      <td>32</td>\n",
       "      <td>137</td>\n",
       "      <td>18</td>\n",
       "    </tr>\n",
       "    <tr>\n",
       "      <th>199</th>\n",
       "      <td>Male</td>\n",
       "      <td>30</td>\n",
       "      <td>137</td>\n",
       "      <td>83</td>\n",
       "    </tr>\n",
       "  </tbody>\n",
       "</table>\n",
       "<p>200 rows × 4 columns</p>\n",
       "</div>"
      ],
      "text/plain": [
       "      Genre  Age  Annual Income (k$)  Spending Score (1-100)\n",
       "0      Male   19                  15                      39\n",
       "1      Male   21                  15                      81\n",
       "2    Female   20                  16                       6\n",
       "3    Female   23                  16                      77\n",
       "4    Female   31                  17                      40\n",
       "..      ...  ...                 ...                     ...\n",
       "195  Female   35                 120                      79\n",
       "196  Female   45                 126                      28\n",
       "197    Male   32                 126                      74\n",
       "198    Male   32                 137                      18\n",
       "199    Male   30                 137                      83\n",
       "\n",
       "[200 rows x 4 columns]"
      ]
     },
     "execution_count": 13,
     "metadata": {},
     "output_type": "execute_result"
    }
   ],
   "source": [
    "df"
   ]
  },
  {
   "cell_type": "code",
   "execution_count": 14,
   "id": "0b791513",
   "metadata": {
    "execution": {
     "iopub.execute_input": "2023-07-31T11:25:25.837819Z",
     "iopub.status.busy": "2023-07-31T11:25:25.837013Z",
     "iopub.status.idle": "2023-07-31T11:25:29.006265Z",
     "shell.execute_reply": "2023-07-31T11:25:29.005472Z"
    },
    "papermill": {
     "duration": 3.189304,
     "end_time": "2023-07-31T11:25:29.008795",
     "exception": false,
     "start_time": "2023-07-31T11:25:25.819491",
     "status": "completed"
    },
    "tags": []
   },
   "outputs": [
    {
     "name": "stderr",
     "output_type": "stream",
     "text": [
      "/opt/conda/lib/python3.10/site-packages/seaborn/axisgrid.py:118: UserWarning: The figure layout has changed to tight\n",
      "  self._figure.tight_layout(*args, **kwargs)\n"
     ]
    },
    {
     "data": {
      "text/plain": [
       "<seaborn.axisgrid.PairGrid at 0x7d532502dd80>"
      ]
     },
     "execution_count": 14,
     "metadata": {},
     "output_type": "execute_result"
    },
    {
     "data": {
      "image/png": "[encoded data removed]",
      "text/plain": [
       "<Figure size 750x750 with 12 Axes>"
      ]
     },
     "metadata": {},
     "output_type": "display_data"
    }
   ],
   "source": [
    "sns.pairplot(data=df)"
   ]
  },
  {
   "cell_type": "code",
   "execution_count": 15,
   "id": "31cd9094",
   "metadata": {
    "execution": {
     "iopub.execute_input": "2023-07-31T11:25:29.043237Z",
     "iopub.status.busy": "2023-07-31T11:25:29.042810Z",
     "iopub.status.idle": "2023-07-31T11:25:29.054905Z",
     "shell.execute_reply": "2023-07-31T11:25:29.053717Z"
    },
    "papermill": {
     "duration": 0.032349,
     "end_time": "2023-07-31T11:25:29.057218",
     "exception": false,
     "start_time": "2023-07-31T11:25:29.024869",
     "status": "completed"
    },
    "tags": []
   },
   "outputs": [
    {
     "data": {
      "text/html": [
       "<div>\n",
       "<style scoped>\n",
       "    .dataframe tbody tr th:only-of-type {\n",
       "        vertical-align: middle;\n",
       "    }\n",
       "\n",
       "    .dataframe tbody tr th {\n",
       "        vertical-align: top;\n",
       "    }\n",
       "\n",
       "    .dataframe thead th {\n",
       "        text-align: right;\n",
       "    }\n",
       "</style>\n",
       "<table border=\"1\" class=\"dataframe\">\n",
       "  <thead>\n",
       "    <tr style=\"text-align: right;\">\n",
       "      <th></th>\n",
       "      <th>Annual Income (k$)</th>\n",
       "      <th>Spending Score (1-100)</th>\n",
       "    </tr>\n",
       "  </thead>\n",
       "  <tbody>\n",
       "    <tr>\n",
       "      <th>0</th>\n",
       "      <td>15</td>\n",
       "      <td>39</td>\n",
       "    </tr>\n",
       "    <tr>\n",
       "      <th>1</th>\n",
       "      <td>15</td>\n",
       "      <td>81</td>\n",
       "    </tr>\n",
       "    <tr>\n",
       "      <th>2</th>\n",
       "      <td>16</td>\n",
       "      <td>6</td>\n",
       "    </tr>\n",
       "    <tr>\n",
       "      <th>3</th>\n",
       "      <td>16</td>\n",
       "      <td>77</td>\n",
       "    </tr>\n",
       "    <tr>\n",
       "      <th>4</th>\n",
       "      <td>17</td>\n",
       "      <td>40</td>\n",
       "    </tr>\n",
       "  </tbody>\n",
       "</table>\n",
       "</div>"
      ],
      "text/plain": [
       "   Annual Income (k$)  Spending Score (1-100)\n",
       "0                  15                      39\n",
       "1                  15                      81\n",
       "2                  16                       6\n",
       "3                  16                      77\n",
       "4                  17                      40"
      ]
     },
     "execution_count": 15,
     "metadata": {},
     "output_type": "execute_result"
    }
   ],
   "source": [
    "X=df.drop(['Genre', 'Age'],axis=1)\n",
    "X.head()"
   ]
  },
  {
   "cell_type": "markdown",
   "id": "75267c71",
   "metadata": {
    "papermill": {
     "duration": 0.015928,
     "end_time": "2023-07-31T11:25:29.089326",
     "exception": false,
     "start_time": "2023-07-31T11:25:29.073398",
     "status": "completed"
    },
    "tags": []
   },
   "source": [
    "# Modelling"
   ]
  },
  {
   "cell_type": "markdown",
   "id": "4ebe8b50",
   "metadata": {
    "papermill": {
     "duration": 0.015879,
     "end_time": "2023-07-31T11:25:29.121911",
     "exception": false,
     "start_time": "2023-07-31T11:25:29.106032",
     "status": "completed"
    },
    "tags": []
   },
   "source": [
    "## k-means clustering"
   ]
  },
  {
   "cell_type": "code",
   "execution_count": 16,
   "id": "36778de2",
   "metadata": {
    "execution": {
     "iopub.execute_input": "2023-07-31T11:25:29.157340Z",
     "iopub.status.busy": "2023-07-31T11:25:29.155980Z",
     "iopub.status.idle": "2023-07-31T11:25:29.956378Z",
     "shell.execute_reply": "2023-07-31T11:25:29.955283Z"
    },
    "papermill": {
     "duration": 0.820615,
     "end_time": "2023-07-31T11:25:29.959199",
     "exception": false,
     "start_time": "2023-07-31T11:25:29.138584",
     "status": "completed"
    },
    "tags": []
   },
   "outputs": [],
   "source": [
    "from sklearn.cluster import KMeans\n",
    "\n",
    "kmeans=KMeans(n_clusters=5,init=\"k-means++\",random_state=42)"
   ]
  },
  {
   "cell_type": "code",
   "execution_count": 17,
   "id": "5ff3801d",
   "metadata": {
    "execution": {
     "iopub.execute_input": "2023-07-31T11:25:29.993673Z",
     "iopub.status.busy": "2023-07-31T11:25:29.993257Z",
     "iopub.status.idle": "2023-07-31T11:25:30.085964Z",
     "shell.execute_reply": "2023-07-31T11:25:30.084987Z"
    },
    "papermill": {
     "duration": 0.11325,
     "end_time": "2023-07-31T11:25:30.088737",
     "exception": false,
     "start_time": "2023-07-31T11:25:29.975487",
     "status": "completed"
    },
    "tags": []
   },
   "outputs": [
    {
     "name": "stderr",
     "output_type": "stream",
     "text": [
      "/opt/conda/lib/python3.10/site-packages/sklearn/cluster/_kmeans.py:870: FutureWarning: The default value of `n_init` will change from 10 to 'auto' in 1.4. Set the value of `n_init` explicitly to suppress the warning\n",
      "  warnings.warn(\n"
     ]
    }
   ],
   "source": [
    "y=kmeans.fit_predict(X)"
   ]
  },
  {
   "cell_type": "code",
   "execution_count": 18,
   "id": "fd8cfe10",
   "metadata": {
    "execution": {
     "iopub.execute_input": "2023-07-31T11:25:30.125591Z",
     "iopub.status.busy": "2023-07-31T11:25:30.124365Z",
     "iopub.status.idle": "2023-07-31T11:25:30.132737Z",
     "shell.execute_reply": "2023-07-31T11:25:30.131568Z"
    },
    "papermill": {
     "duration": 0.02846,
     "end_time": "2023-07-31T11:25:30.135092",
     "exception": false,
     "start_time": "2023-07-31T11:25:30.106632",
     "status": "completed"
    },
    "tags": []
   },
   "outputs": [
    {
     "data": {
      "text/plain": [
       "array([2, 3, 2, 3, 2, 3, 2, 3, 2, 3, 2, 3, 2, 3, 2, 3, 2, 3, 2, 3, 2, 3,\n",
       "       2, 3, 2, 3, 2, 3, 2, 3, 2, 3, 2, 3, 2, 3, 2, 3, 2, 3, 2, 3, 2, 0,\n",
       "       2, 3, 0, 0, 0, 0, 0, 0, 0, 0, 0, 0, 0, 0, 0, 0, 0, 0, 0, 0, 0, 0,\n",
       "       0, 0, 0, 0, 0, 0, 0, 0, 0, 0, 0, 0, 0, 0, 0, 0, 0, 0, 0, 0, 0, 0,\n",
       "       0, 0, 0, 0, 0, 0, 0, 0, 0, 0, 0, 0, 0, 0, 0, 0, 0, 0, 0, 0, 0, 0,\n",
       "       0, 0, 0, 0, 0, 0, 0, 0, 0, 0, 0, 0, 0, 4, 1, 4, 0, 4, 1, 4, 1, 4,\n",
       "       0, 4, 1, 4, 1, 4, 1, 4, 1, 4, 0, 4, 1, 4, 1, 4, 1, 4, 1, 4, 1, 4,\n",
       "       1, 4, 1, 4, 1, 4, 1, 4, 1, 4, 1, 4, 1, 4, 1, 4, 1, 4, 1, 4, 1, 4,\n",
       "       1, 4, 1, 4, 1, 4, 1, 4, 1, 4, 1, 4, 1, 4, 1, 4, 1, 4, 1, 4, 1, 4,\n",
       "       1, 4], dtype=int32)"
      ]
     },
     "execution_count": 18,
     "metadata": {},
     "output_type": "execute_result"
    }
   ],
   "source": [
    "y"
   ]
  },
  {
   "cell_type": "code",
   "execution_count": 19,
   "id": "5775cf3c",
   "metadata": {
    "execution": {
     "iopub.execute_input": "2023-07-31T11:25:30.170094Z",
     "iopub.status.busy": "2023-07-31T11:25:30.168936Z",
     "iopub.status.idle": "2023-07-31T11:25:30.174816Z",
     "shell.execute_reply": "2023-07-31T11:25:30.173656Z"
    },
    "papermill": {
     "duration": 0.025665,
     "end_time": "2023-07-31T11:25:30.177112",
     "exception": false,
     "start_time": "2023-07-31T11:25:30.151447",
     "status": "completed"
    },
    "tags": []
   },
   "outputs": [],
   "source": [
    "mall=df.copy()"
   ]
  },
  {
   "cell_type": "code",
   "execution_count": 20,
   "id": "b7ff6bb4",
   "metadata": {
    "execution": {
     "iopub.execute_input": "2023-07-31T11:25:30.211715Z",
     "iopub.status.busy": "2023-07-31T11:25:30.210976Z",
     "iopub.status.idle": "2023-07-31T11:25:30.216304Z",
     "shell.execute_reply": "2023-07-31T11:25:30.215565Z"
    },
    "papermill": {
     "duration": 0.025329,
     "end_time": "2023-07-31T11:25:30.218760",
     "exception": false,
     "start_time": "2023-07-31T11:25:30.193431",
     "status": "completed"
    },
    "tags": []
   },
   "outputs": [],
   "source": [
    "mall['Claster']=y"
   ]
  },
  {
   "cell_type": "code",
   "execution_count": 21,
   "id": "a7bab729",
   "metadata": {
    "execution": {
     "iopub.execute_input": "2023-07-31T11:25:30.253542Z",
     "iopub.status.busy": "2023-07-31T11:25:30.253119Z",
     "iopub.status.idle": "2023-07-31T11:25:30.264278Z",
     "shell.execute_reply": "2023-07-31T11:25:30.263415Z"
    },
    "papermill": {
     "duration": 0.031117,
     "end_time": "2023-07-31T11:25:30.266383",
     "exception": false,
     "start_time": "2023-07-31T11:25:30.235266",
     "status": "completed"
    },
    "tags": []
   },
   "outputs": [
    {
     "data": {
      "text/html": [
       "<div>\n",
       "<style scoped>\n",
       "    .dataframe tbody tr th:only-of-type {\n",
       "        vertical-align: middle;\n",
       "    }\n",
       "\n",
       "    .dataframe tbody tr th {\n",
       "        vertical-align: top;\n",
       "    }\n",
       "\n",
       "    .dataframe thead th {\n",
       "        text-align: right;\n",
       "    }\n",
       "</style>\n",
       "<table border=\"1\" class=\"dataframe\">\n",
       "  <thead>\n",
       "    <tr style=\"text-align: right;\">\n",
       "      <th></th>\n",
       "      <th>Genre</th>\n",
       "      <th>Age</th>\n",
       "      <th>Annual Income (k$)</th>\n",
       "      <th>Spending Score (1-100)</th>\n",
       "      <th>Claster</th>\n",
       "    </tr>\n",
       "  </thead>\n",
       "  <tbody>\n",
       "    <tr>\n",
       "      <th>0</th>\n",
       "      <td>Male</td>\n",
       "      <td>19</td>\n",
       "      <td>15</td>\n",
       "      <td>39</td>\n",
       "      <td>2</td>\n",
       "    </tr>\n",
       "    <tr>\n",
       "      <th>1</th>\n",
       "      <td>Male</td>\n",
       "      <td>21</td>\n",
       "      <td>15</td>\n",
       "      <td>81</td>\n",
       "      <td>3</td>\n",
       "    </tr>\n",
       "    <tr>\n",
       "      <th>2</th>\n",
       "      <td>Female</td>\n",
       "      <td>20</td>\n",
       "      <td>16</td>\n",
       "      <td>6</td>\n",
       "      <td>2</td>\n",
       "    </tr>\n",
       "    <tr>\n",
       "      <th>3</th>\n",
       "      <td>Female</td>\n",
       "      <td>23</td>\n",
       "      <td>16</td>\n",
       "      <td>77</td>\n",
       "      <td>3</td>\n",
       "    </tr>\n",
       "    <tr>\n",
       "      <th>4</th>\n",
       "      <td>Female</td>\n",
       "      <td>31</td>\n",
       "      <td>17</td>\n",
       "      <td>40</td>\n",
       "      <td>2</td>\n",
       "    </tr>\n",
       "  </tbody>\n",
       "</table>\n",
       "</div>"
      ],
      "text/plain": [
       "    Genre  Age  Annual Income (k$)  Spending Score (1-100)  Claster\n",
       "0    Male   19                  15                      39        2\n",
       "1    Male   21                  15                      81        3\n",
       "2  Female   20                  16                       6        2\n",
       "3  Female   23                  16                      77        3\n",
       "4  Female   31                  17                      40        2"
      ]
     },
     "execution_count": 21,
     "metadata": {},
     "output_type": "execute_result"
    }
   ],
   "source": [
    "mall.head()"
   ]
  },
  {
   "cell_type": "code",
   "execution_count": 22,
   "id": "eaf4f2ca",
   "metadata": {
    "execution": {
     "iopub.execute_input": "2023-07-31T11:25:30.301937Z",
     "iopub.status.busy": "2023-07-31T11:25:30.301087Z",
     "iopub.status.idle": "2023-07-31T11:25:30.838847Z",
     "shell.execute_reply": "2023-07-31T11:25:30.837802Z"
    },
    "papermill": {
     "duration": 0.558233,
     "end_time": "2023-07-31T11:25:30.841265",
     "exception": false,
     "start_time": "2023-07-31T11:25:30.283032",
     "status": "completed"
    },
    "tags": []
   },
   "outputs": [
    {
     "data": {
      "text/plain": [
       "<Axes: xlabel='Annual Income (k$)', ylabel='Spending Score (1-100)'>"
      ]
     },
     "execution_count": 22,
     "metadata": {},
     "output_type": "execute_result"
    },
    {
     "data": {
      "image/png": "[encoded data removed]",
      "text/plain": [
       "<Figure size 640x480 with 1 Axes>"
      ]
     },
     "metadata": {},
     "output_type": "display_data"
    }
   ],
   "source": [
    "sns.scatterplot(x='Annual Income (k$)',y='Spending Score (1-100)',hue=kmeans.labels_,data=mall)"
   ]
  },
  {
   "cell_type": "markdown",
   "id": "2cd2d2c9",
   "metadata": {
    "papermill": {
     "duration": 0.017542,
     "end_time": "2023-07-31T11:25:30.878872",
     "exception": false,
     "start_time": "2023-07-31T11:25:30.861330",
     "status": "completed"
    },
    "tags": []
   },
   "source": [
    "## Finding the Optimal Number of Clusters"
   ]
  },
  {
   "cell_type": "code",
   "execution_count": 23,
   "id": "6107b540",
   "metadata": {
    "execution": {
     "iopub.execute_input": "2023-07-31T11:25:30.917145Z",
     "iopub.status.busy": "2023-07-31T11:25:30.916006Z",
     "iopub.status.idle": "2023-07-31T11:25:31.252599Z",
     "shell.execute_reply": "2023-07-31T11:25:31.251588Z"
    },
    "papermill": {
     "duration": 0.358545,
     "end_time": "2023-07-31T11:25:31.255269",
     "exception": false,
     "start_time": "2023-07-31T11:25:30.896724",
     "status": "completed"
    },
    "tags": []
   },
   "outputs": [
    {
     "name": "stderr",
     "output_type": "stream",
     "text": [
      "/opt/conda/lib/python3.10/site-packages/sklearn/cluster/_kmeans.py:870: FutureWarning: The default value of `n_init` will change from 10 to 'auto' in 1.4. Set the value of `n_init` explicitly to suppress the warning\n",
      "  warnings.warn(\n",
      "/opt/conda/lib/python3.10/site-packages/sklearn/cluster/_kmeans.py:870: FutureWarning: The default value of `n_init` will change from 10 to 'auto' in 1.4. Set the value of `n_init` explicitly to suppress the warning\n",
      "  warnings.warn(\n",
      "/opt/conda/lib/python3.10/site-packages/sklearn/cluster/_kmeans.py:870: FutureWarning: The default value of `n_init` will change from 10 to 'auto' in 1.4. Set the value of `n_init` explicitly to suppress the warning\n",
      "  warnings.warn(\n",
      "/opt/conda/lib/python3.10/site-packages/sklearn/cluster/_kmeans.py:870: FutureWarning: The default value of `n_init` will change from 10 to 'auto' in 1.4. Set the value of `n_init` explicitly to suppress the warning\n",
      "  warnings.warn(\n",
      "/opt/conda/lib/python3.10/site-packages/sklearn/cluster/_kmeans.py:870: FutureWarning: The default value of `n_init` will change from 10 to 'auto' in 1.4. Set the value of `n_init` explicitly to suppress the warning\n",
      "  warnings.warn(\n",
      "/opt/conda/lib/python3.10/site-packages/sklearn/cluster/_kmeans.py:870: FutureWarning: The default value of `n_init` will change from 10 to 'auto' in 1.4. Set the value of `n_init` explicitly to suppress the warning\n",
      "  warnings.warn(\n",
      "/opt/conda/lib/python3.10/site-packages/sklearn/cluster/_kmeans.py:870: FutureWarning: The default value of `n_init` will change from 10 to 'auto' in 1.4. Set the value of `n_init` explicitly to suppress the warning\n",
      "  warnings.warn(\n",
      "/opt/conda/lib/python3.10/site-packages/sklearn/cluster/_kmeans.py:870: FutureWarning: The default value of `n_init` will change from 10 to 'auto' in 1.4. Set the value of `n_init` explicitly to suppress the warning\n",
      "  warnings.warn(\n",
      "/opt/conda/lib/python3.10/site-packages/sklearn/cluster/_kmeans.py:870: FutureWarning: The default value of `n_init` will change from 10 to 'auto' in 1.4. Set the value of `n_init` explicitly to suppress the warning\n",
      "  warnings.warn(\n",
      "/opt/conda/lib/python3.10/site-packages/sklearn/cluster/_kmeans.py:870: FutureWarning: The default value of `n_init` will change from 10 to 'auto' in 1.4. Set the value of `n_init` explicitly to suppress the warning\n",
      "  warnings.warn(\n",
      "/opt/conda/lib/python3.10/site-packages/sklearn/cluster/_kmeans.py:870: FutureWarning: The default value of `n_init` will change from 10 to 'auto' in 1.4. Set the value of `n_init` explicitly to suppress the warning\n",
      "  warnings.warn(\n",
      "/opt/conda/lib/python3.10/site-packages/sklearn/cluster/_kmeans.py:870: FutureWarning: The default value of `n_init` will change from 10 to 'auto' in 1.4. Set the value of `n_init` explicitly to suppress the warning\n",
      "  warnings.warn(\n"
     ]
    },
    {
     "data": {
      "text/plain": [
       "[269981.28,\n",
       " 181363.59595959596,\n",
       " 106348.37306211119,\n",
       " 73679.78903948834,\n",
       " 44448.45544793371,\n",
       " 37233.81451071001,\n",
       " 30259.65720728547,\n",
       " 25011.839349156595,\n",
       " 21862.09267218289,\n",
       " 19672.072849014323,\n",
       " 17887.084456628643,\n",
       " 15917.609689427862]"
      ]
     },
     "execution_count": 23,
     "metadata": {},
     "output_type": "execute_result"
    }
   ],
   "source": [
    "w=[]\n",
    "for i in range(1,13):\n",
    "    kmeans=KMeans(n_clusters=i,init=\"k-means++\",random_state=42)\n",
    "    kmeans.fit(X)\n",
    "    w.append(kmeans.inertia_)\n",
    "w"
   ]
  },
  {
   "cell_type": "code",
   "execution_count": 24,
   "id": "60da8036",
   "metadata": {
    "execution": {
     "iopub.execute_input": "2023-07-31T11:25:31.294517Z",
     "iopub.status.busy": "2023-07-31T11:25:31.294104Z",
     "iopub.status.idle": "2023-07-31T11:25:31.565327Z",
     "shell.execute_reply": "2023-07-31T11:25:31.564171Z"
    },
    "papermill": {
     "duration": 0.293202,
     "end_time": "2023-07-31T11:25:31.567922",
     "exception": false,
     "start_time": "2023-07-31T11:25:31.274720",
     "status": "completed"
    },
    "tags": []
   },
   "outputs": [
    {
     "data": {
      "text/plain": [
       "[<matplotlib.lines.Line2D at 0x7d530b9d82b0>]"
      ]
     },
     "execution_count": 24,
     "metadata": {},
     "output_type": "execute_result"
    },
    {
     "data": {
      "image/png": "[encoded data removed]",
      "text/plain": [
       "<Figure size 640x480 with 1 Axes>"
      ]
     },
     "metadata": {},
     "output_type": "display_data"
    }
   ],
   "source": [
    "plt.plot(range(1,13),w)"
   ]
  },
  {
   "cell_type": "markdown",
   "id": "bf9c64a8",
   "metadata": {
    "papermill": {
     "duration": 0.018544,
     "end_time": "2023-07-31T11:25:31.605404",
     "exception": false,
     "start_time": "2023-07-31T11:25:31.586860",
     "status": "completed"
    },
    "tags": []
   },
   "source": [
    "## Hierarchical Clustering"
   ]
  },
  {
   "cell_type": "code",
   "execution_count": 25,
   "id": "907a75f7",
   "metadata": {
    "execution": {
     "iopub.execute_input": "2023-07-31T11:25:31.644759Z",
     "iopub.status.busy": "2023-07-31T11:25:31.644312Z",
     "iopub.status.idle": "2023-07-31T11:25:31.656843Z",
     "shell.execute_reply": "2023-07-31T11:25:31.655560Z"
    },
    "papermill": {
     "duration": 0.034958,
     "end_time": "2023-07-31T11:25:31.659136",
     "exception": false,
     "start_time": "2023-07-31T11:25:31.624178",
     "status": "completed"
    },
    "tags": []
   },
   "outputs": [
    {
     "data": {
      "text/html": [
       "<div>\n",
       "<style scoped>\n",
       "    .dataframe tbody tr th:only-of-type {\n",
       "        vertical-align: middle;\n",
       "    }\n",
       "\n",
       "    .dataframe tbody tr th {\n",
       "        vertical-align: top;\n",
       "    }\n",
       "\n",
       "    .dataframe thead th {\n",
       "        text-align: right;\n",
       "    }\n",
       "</style>\n",
       "<table border=\"1\" class=\"dataframe\">\n",
       "  <thead>\n",
       "    <tr style=\"text-align: right;\">\n",
       "      <th></th>\n",
       "      <th>Annual Income (k$)</th>\n",
       "      <th>Spending Score (1-100)</th>\n",
       "    </tr>\n",
       "  </thead>\n",
       "  <tbody>\n",
       "    <tr>\n",
       "      <th>0</th>\n",
       "      <td>15</td>\n",
       "      <td>39</td>\n",
       "    </tr>\n",
       "    <tr>\n",
       "      <th>1</th>\n",
       "      <td>15</td>\n",
       "      <td>81</td>\n",
       "    </tr>\n",
       "    <tr>\n",
       "      <th>2</th>\n",
       "      <td>16</td>\n",
       "      <td>6</td>\n",
       "    </tr>\n",
       "    <tr>\n",
       "      <th>3</th>\n",
       "      <td>16</td>\n",
       "      <td>77</td>\n",
       "    </tr>\n",
       "    <tr>\n",
       "      <th>4</th>\n",
       "      <td>17</td>\n",
       "      <td>40</td>\n",
       "    </tr>\n",
       "    <tr>\n",
       "      <th>...</th>\n",
       "      <td>...</td>\n",
       "      <td>...</td>\n",
       "    </tr>\n",
       "    <tr>\n",
       "      <th>195</th>\n",
       "      <td>120</td>\n",
       "      <td>79</td>\n",
       "    </tr>\n",
       "    <tr>\n",
       "      <th>196</th>\n",
       "      <td>126</td>\n",
       "      <td>28</td>\n",
       "    </tr>\n",
       "    <tr>\n",
       "      <th>197</th>\n",
       "      <td>126</td>\n",
       "      <td>74</td>\n",
       "    </tr>\n",
       "    <tr>\n",
       "      <th>198</th>\n",
       "      <td>137</td>\n",
       "      <td>18</td>\n",
       "    </tr>\n",
       "    <tr>\n",
       "      <th>199</th>\n",
       "      <td>137</td>\n",
       "      <td>83</td>\n",
       "    </tr>\n",
       "  </tbody>\n",
       "</table>\n",
       "<p>200 rows × 2 columns</p>\n",
       "</div>"
      ],
      "text/plain": [
       "     Annual Income (k$)  Spending Score (1-100)\n",
       "0                    15                      39\n",
       "1                    15                      81\n",
       "2                    16                       6\n",
       "3                    16                      77\n",
       "4                    17                      40\n",
       "..                  ...                     ...\n",
       "195                 120                      79\n",
       "196                 126                      28\n",
       "197                 126                      74\n",
       "198                 137                      18\n",
       "199                 137                      83\n",
       "\n",
       "[200 rows x 2 columns]"
      ]
     },
     "execution_count": 25,
     "metadata": {},
     "output_type": "execute_result"
    }
   ],
   "source": [
    "X"
   ]
  },
  {
   "cell_type": "code",
   "execution_count": 26,
   "id": "0e998e16",
   "metadata": {
    "execution": {
     "iopub.execute_input": "2023-07-31T11:25:31.700161Z",
     "iopub.status.busy": "2023-07-31T11:25:31.699736Z",
     "iopub.status.idle": "2023-07-31T11:25:31.705413Z",
     "shell.execute_reply": "2023-07-31T11:25:31.704235Z"
    },
    "papermill": {
     "duration": 0.029192,
     "end_time": "2023-07-31T11:25:31.708059",
     "exception": false,
     "start_time": "2023-07-31T11:25:31.678867",
     "status": "completed"
    },
    "tags": []
   },
   "outputs": [],
   "source": [
    "HiCl = df.copy()"
   ]
  },
  {
   "cell_type": "code",
   "execution_count": 27,
   "id": "8ee74ac1",
   "metadata": {
    "execution": {
     "iopub.execute_input": "2023-07-31T11:25:31.748676Z",
     "iopub.status.busy": "2023-07-31T11:25:31.748205Z",
     "iopub.status.idle": "2023-07-31T11:25:31.762289Z",
     "shell.execute_reply": "2023-07-31T11:25:31.761184Z"
    },
    "papermill": {
     "duration": 0.037314,
     "end_time": "2023-07-31T11:25:31.764797",
     "exception": false,
     "start_time": "2023-07-31T11:25:31.727483",
     "status": "completed"
    },
    "tags": []
   },
   "outputs": [
    {
     "data": {
      "text/html": [
       "<div>\n",
       "<style scoped>\n",
       "    .dataframe tbody tr th:only-of-type {\n",
       "        vertical-align: middle;\n",
       "    }\n",
       "\n",
       "    .dataframe tbody tr th {\n",
       "        vertical-align: top;\n",
       "    }\n",
       "\n",
       "    .dataframe thead th {\n",
       "        text-align: right;\n",
       "    }\n",
       "</style>\n",
       "<table border=\"1\" class=\"dataframe\">\n",
       "  <thead>\n",
       "    <tr style=\"text-align: right;\">\n",
       "      <th></th>\n",
       "      <th>Genre</th>\n",
       "      <th>Age</th>\n",
       "      <th>Annual Income (k$)</th>\n",
       "      <th>Spending Score (1-100)</th>\n",
       "    </tr>\n",
       "  </thead>\n",
       "  <tbody>\n",
       "    <tr>\n",
       "      <th>0</th>\n",
       "      <td>Male</td>\n",
       "      <td>19</td>\n",
       "      <td>15</td>\n",
       "      <td>39</td>\n",
       "    </tr>\n",
       "    <tr>\n",
       "      <th>1</th>\n",
       "      <td>Male</td>\n",
       "      <td>21</td>\n",
       "      <td>15</td>\n",
       "      <td>81</td>\n",
       "    </tr>\n",
       "    <tr>\n",
       "      <th>2</th>\n",
       "      <td>Female</td>\n",
       "      <td>20</td>\n",
       "      <td>16</td>\n",
       "      <td>6</td>\n",
       "    </tr>\n",
       "    <tr>\n",
       "      <th>3</th>\n",
       "      <td>Female</td>\n",
       "      <td>23</td>\n",
       "      <td>16</td>\n",
       "      <td>77</td>\n",
       "    </tr>\n",
       "    <tr>\n",
       "      <th>4</th>\n",
       "      <td>Female</td>\n",
       "      <td>31</td>\n",
       "      <td>17</td>\n",
       "      <td>40</td>\n",
       "    </tr>\n",
       "  </tbody>\n",
       "</table>\n",
       "</div>"
      ],
      "text/plain": [
       "    Genre  Age  Annual Income (k$)  Spending Score (1-100)\n",
       "0    Male   19                  15                      39\n",
       "1    Male   21                  15                      81\n",
       "2  Female   20                  16                       6\n",
       "3  Female   23                  16                      77\n",
       "4  Female   31                  17                      40"
      ]
     },
     "execution_count": 27,
     "metadata": {},
     "output_type": "execute_result"
    }
   ],
   "source": [
    "HiCl.head()"
   ]
  },
  {
   "cell_type": "code",
   "execution_count": 28,
   "id": "aa7191ec",
   "metadata": {
    "execution": {
     "iopub.execute_input": "2023-07-31T11:25:31.806061Z",
     "iopub.status.busy": "2023-07-31T11:25:31.805639Z",
     "iopub.status.idle": "2023-07-31T11:25:31.811069Z",
     "shell.execute_reply": "2023-07-31T11:25:31.810039Z"
    },
    "papermill": {
     "duration": 0.028811,
     "end_time": "2023-07-31T11:25:31.813585",
     "exception": false,
     "start_time": "2023-07-31T11:25:31.784774",
     "status": "completed"
    },
    "tags": []
   },
   "outputs": [],
   "source": [
    "import scipy.cluster.hierarchy as sch"
   ]
  },
  {
   "cell_type": "code",
   "execution_count": 29,
   "id": "66c8e690",
   "metadata": {
    "execution": {
     "iopub.execute_input": "2023-07-31T11:25:31.858392Z",
     "iopub.status.busy": "2023-07-31T11:25:31.857194Z",
     "iopub.status.idle": "2023-07-31T11:25:35.188103Z",
     "shell.execute_reply": "2023-07-31T11:25:35.186796Z"
    },
    "papermill": {
     "duration": 3.357313,
     "end_time": "2023-07-31T11:25:35.190719",
     "exception": false,
     "start_time": "2023-07-31T11:25:31.833406",
     "status": "completed"
    },
    "tags": []
   },
   "outputs": [
    {
     "data": {
      "text/plain": [
       "Text(0, 0.5, 'Euclidean distances')"
      ]
     },
     "execution_count": 29,
     "metadata": {},
     "output_type": "execute_result"
    },
    {
     "data": {
      "image/png": "[encoded data removed]",
      "text/plain": [
       "<Figure size 2000x1000 with 1 Axes>"
      ]
     },
     "metadata": {},
     "output_type": "display_data"
    }
   ],
   "source": [
    "plt.figure(figsize=(20,10))\n",
    "dendrogram=sch.dendrogram(sch.linkage(X,method='ward'))\n",
    "plt.title(\"Dendrogram\")\n",
    "plt.xlabel(\"Customer\")\n",
    "plt.ylabel(\"Euclidean distances\")"
   ]
  },
  {
   "cell_type": "code",
   "execution_count": 30,
   "id": "27a33157",
   "metadata": {
    "execution": {
     "iopub.execute_input": "2023-07-31T11:25:35.234718Z",
     "iopub.status.busy": "2023-07-31T11:25:35.234266Z",
     "iopub.status.idle": "2023-07-31T11:25:35.239768Z",
     "shell.execute_reply": "2023-07-31T11:25:35.238351Z"
    },
    "papermill": {
     "duration": 0.030711,
     "end_time": "2023-07-31T11:25:35.241971",
     "exception": false,
     "start_time": "2023-07-31T11:25:35.211260",
     "status": "completed"
    },
    "tags": []
   },
   "outputs": [],
   "source": [
    "from sklearn.cluster import AgglomerativeClustering"
   ]
  },
  {
   "cell_type": "code",
   "execution_count": 31,
   "id": "d97b21d5",
   "metadata": {
    "execution": {
     "iopub.execute_input": "2023-07-31T11:25:35.286633Z",
     "iopub.status.busy": "2023-07-31T11:25:35.286178Z",
     "iopub.status.idle": "2023-07-31T11:25:35.291872Z",
     "shell.execute_reply": "2023-07-31T11:25:35.290668Z"
    },
    "papermill": {
     "duration": 0.031527,
     "end_time": "2023-07-31T11:25:35.294683",
     "exception": false,
     "start_time": "2023-07-31T11:25:35.263156",
     "status": "completed"
    },
    "tags": []
   },
   "outputs": [],
   "source": [
    "clH=AgglomerativeClustering(n_clusters=5,affinity='euclidean',linkage='ward')"
   ]
  },
  {
   "cell_type": "code",
   "execution_count": 32,
   "id": "4a9546c6",
   "metadata": {
    "execution": {
     "iopub.execute_input": "2023-07-31T11:25:35.338282Z",
     "iopub.status.busy": "2023-07-31T11:25:35.337526Z",
     "iopub.status.idle": "2023-07-31T11:25:35.354865Z",
     "shell.execute_reply": "2023-07-31T11:25:35.353915Z"
    },
    "papermill": {
     "duration": 0.041239,
     "end_time": "2023-07-31T11:25:35.356964",
     "exception": false,
     "start_time": "2023-07-31T11:25:35.315725",
     "status": "completed"
    },
    "tags": []
   },
   "outputs": [
    {
     "name": "stderr",
     "output_type": "stream",
     "text": [
      "/opt/conda/lib/python3.10/site-packages/sklearn/cluster/_agglomerative.py:983: FutureWarning: Attribute `affinity` was deprecated in version 1.2 and will be removed in 1.4. Use `metric` instead\n",
      "  warnings.warn(\n"
     ]
    },
    {
     "data": {
      "text/html": [
       "<style>#sk-container-id-1 {color: black;background-color: white;}#sk-container-id-1 pre{padding: 0;}#sk-container-id-1 div.sk-toggleable {background-color: white;}#sk-container-id-1 label.sk-toggleable__label {cursor: pointer;display: block;width: 100%;margin-bottom: 0;padding: 0.3em;box-sizing: border-box;text-align: center;}#sk-container-id-1 label.sk-toggleable__label-arrow:before {content: \"▸\";float: left;margin-right: 0.25em;color: #696969;}#sk-container-id-1 label.sk-toggleable__label-arrow:hover:before {color: black;}#sk-container-id-1 div.sk-estimator:hover label.sk-toggleable__label-arrow:before {color: black;}#sk-container-id-1 div.sk-toggleable__content {max-height: 0;max-width: 0;overflow: hidden;text-align: left;background-color: #f0f8ff;}#sk-container-id-1 div.sk-toggleable__content pre {margin: 0.2em;color: black;border-radius: 0.25em;background-color: #f0f8ff;}#sk-container-id-1 input.sk-toggleable__control:checked~div.sk-toggleable__content {max-height: 200px;max-width: 100%;overflow: auto;}#sk-container-id-1 input.sk-toggleable__control:checked~label.sk-toggleable__label-arrow:before {content: \"▾\";}#sk-container-id-1 div.sk-estimator input.sk-toggleable__control:checked~label.sk-toggleable__label {background-color: #d4ebff;}#sk-container-id-1 div.sk-label input.sk-toggleable__control:checked~label.sk-toggleable__label {background-color: #d4ebff;}#sk-container-id-1 input.sk-hidden--visually {border: 0;clip: rect(1px 1px 1px 1px);clip: rect(1px, 1px, 1px, 1px);height: 1px;margin: -1px;overflow: hidden;padding: 0;position: absolute;width: 1px;}#sk-container-id-1 div.sk-estimator {font-family: monospace;background-color: #f0f8ff;border: 1px dotted black;border-radius: 0.25em;box-sizing: border-box;margin-bottom: 0.5em;}#sk-container-id-1 div.sk-estimator:hover {background-color: #d4ebff;}#sk-container-id-1 div.sk-parallel-item::after {content: \"\";width: 100%;border-bottom: 1px solid gray;flex-grow: 1;}#sk-container-id-1 div.sk-label:hover label.sk-toggleable__label {background-color: #d4ebff;}#sk-container-id-1 div.sk-serial::before {content: \"\";position: absolute;border-left: 1px solid gray;box-sizing: border-box;top: 0;bottom: 0;left: 50%;z-index: 0;}#sk-container-id-1 div.sk-serial {display: flex;flex-direction: column;align-items: center;background-color: white;padding-right: 0.2em;padding-left: 0.2em;position: relative;}#sk-container-id-1 div.sk-item {position: relative;z-index: 1;}#sk-container-id-1 div.sk-parallel {display: flex;align-items: stretch;justify-content: center;background-color: white;position: relative;}#sk-container-id-1 div.sk-item::before, #sk-container-id-1 div.sk-parallel-item::before {content: \"\";position: absolute;border-left: 1px solid gray;box-sizing: border-box;top: 0;bottom: 0;left: 50%;z-index: -1;}#sk-container-id-1 div.sk-parallel-item {display: flex;flex-direction: column;z-index: 1;position: relative;background-color: white;}#sk-container-id-1 div.sk-parallel-item:first-child::after {align-self: flex-end;width: 50%;}#sk-container-id-1 div.sk-parallel-item:last-child::after {align-self: flex-start;width: 50%;}#sk-container-id-1 div.sk-parallel-item:only-child::after {width: 0;}#sk-container-id-1 div.sk-dashed-wrapped {border: 1px dashed gray;margin: 0 0.4em 0.5em 0.4em;box-sizing: border-box;padding-bottom: 0.4em;background-color: white;}#sk-container-id-1 div.sk-label label {font-family: monospace;font-weight: bold;display: inline-block;line-height: 1.2em;}#sk-container-id-1 div.sk-label-container {text-align: center;}#sk-container-id-1 div.sk-container {/* jupyter's `normalize.less` sets `[hidden] { display: none; }` but bootstrap.min.css set `[hidden] { display: none !important; }` so we also need the `!important` here to be able to override the default hidden behavior on the sphinx rendered scikit-learn.org. See: https://github.com/scikit-learn/scikit-learn/issues/21755 */display: inline-block !important;position: relative;}#sk-container-id-1 div.sk-text-repr-fallback {display: none;}</style><div id=\"sk-container-id-1\" class=\"sk-top-container\"><div class=\"sk-text-repr-fallback\"><pre>AgglomerativeClustering(affinity=&#x27;euclidean&#x27;, n_clusters=5)</pre><b>In a Jupyter environment, please rerun this cell to show the HTML representation or trust the notebook. <br />On GitHub, the HTML representation is unable to render, please try loading this page with nbviewer.org.</b></div><div class=\"sk-container\" hidden><div class=\"sk-item\"><div class=\"sk-estimator sk-toggleable\"><input class=\"sk-toggleable__control sk-hidden--visually\" id=\"sk-estimator-id-1\" type=\"checkbox\" checked><label for=\"sk-estimator-id-1\" class=\"sk-toggleable__label sk-toggleable__label-arrow\">AgglomerativeClustering</label><div class=\"sk-toggleable__content\"><pre>AgglomerativeClustering(affinity=&#x27;euclidean&#x27;, n_clusters=5)</pre></div></div></div></div></div>"
      ],
      "text/plain": [
       "AgglomerativeClustering(affinity='euclidean', n_clusters=5)"
      ]
     },
     "execution_count": 32,
     "metadata": {},
     "output_type": "execute_result"
    }
   ],
   "source": [
    "clH.fit(X)"
   ]
  },
  {
   "cell_type": "code",
   "execution_count": 33,
   "id": "727baca6",
   "metadata": {
    "execution": {
     "iopub.execute_input": "2023-07-31T11:25:35.401447Z",
     "iopub.status.busy": "2023-07-31T11:25:35.400714Z",
     "iopub.status.idle": "2023-07-31T11:25:35.412673Z",
     "shell.execute_reply": "2023-07-31T11:25:35.411564Z"
    },
    "papermill": {
     "duration": 0.036341,
     "end_time": "2023-07-31T11:25:35.414788",
     "exception": false,
     "start_time": "2023-07-31T11:25:35.378447",
     "status": "completed"
    },
    "tags": []
   },
   "outputs": [
    {
     "name": "stderr",
     "output_type": "stream",
     "text": [
      "/opt/conda/lib/python3.10/site-packages/sklearn/cluster/_agglomerative.py:983: FutureWarning: Attribute `affinity` was deprecated in version 1.2 and will be removed in 1.4. Use `metric` instead\n",
      "  warnings.warn(\n"
     ]
    },
    {
     "data": {
      "text/plain": [
       "array([4, 3, 4, 3, 4, 3, 4, 3, 4, 3, 4, 3, 4, 3, 4, 3, 4, 3, 4, 3, 4, 3,\n",
       "       4, 3, 4, 3, 4, 3, 4, 3, 4, 3, 4, 3, 4, 3, 4, 3, 4, 3, 4, 3, 4, 1,\n",
       "       4, 1, 1, 1, 1, 1, 1, 1, 1, 1, 1, 1, 1, 1, 1, 1, 1, 1, 1, 1, 1, 1,\n",
       "       1, 1, 1, 1, 1, 1, 1, 1, 1, 1, 1, 1, 1, 1, 1, 1, 1, 1, 1, 1, 1, 1,\n",
       "       1, 1, 1, 1, 1, 1, 1, 1, 1, 1, 1, 1, 1, 1, 1, 1, 1, 1, 1, 1, 1, 1,\n",
       "       1, 1, 1, 1, 1, 1, 1, 1, 1, 1, 1, 1, 1, 2, 1, 2, 1, 2, 0, 2, 0, 2,\n",
       "       1, 2, 0, 2, 0, 2, 0, 2, 0, 2, 1, 2, 0, 2, 1, 2, 0, 2, 0, 2, 0, 2,\n",
       "       0, 2, 0, 2, 0, 2, 1, 2, 0, 2, 0, 2, 0, 2, 0, 2, 0, 2, 0, 2, 0, 2,\n",
       "       0, 2, 0, 2, 0, 2, 0, 2, 0, 2, 0, 2, 0, 2, 0, 2, 0, 2, 0, 2, 0, 2,\n",
       "       0, 2])"
      ]
     },
     "execution_count": 33,
     "metadata": {},
     "output_type": "execute_result"
    }
   ],
   "source": [
    "yH=clH.fit_predict(X)\n",
    "yH"
   ]
  },
  {
   "cell_type": "code",
   "execution_count": 34,
   "id": "4feb538f",
   "metadata": {
    "execution": {
     "iopub.execute_input": "2023-07-31T11:25:35.460530Z",
     "iopub.status.busy": "2023-07-31T11:25:35.459778Z",
     "iopub.status.idle": "2023-07-31T11:25:35.464941Z",
     "shell.execute_reply": "2023-07-31T11:25:35.464059Z"
    },
    "papermill": {
     "duration": 0.031324,
     "end_time": "2023-07-31T11:25:35.467405",
     "exception": false,
     "start_time": "2023-07-31T11:25:35.436081",
     "status": "completed"
    },
    "tags": []
   },
   "outputs": [],
   "source": [
    "HiCl['Claster']=yH"
   ]
  },
  {
   "cell_type": "code",
   "execution_count": 35,
   "id": "1ceb5df1",
   "metadata": {
    "execution": {
     "iopub.execute_input": "2023-07-31T11:25:35.512642Z",
     "iopub.status.busy": "2023-07-31T11:25:35.511865Z",
     "iopub.status.idle": "2023-07-31T11:25:35.524086Z",
     "shell.execute_reply": "2023-07-31T11:25:35.522809Z"
    },
    "papermill": {
     "duration": 0.037521,
     "end_time": "2023-07-31T11:25:35.526634",
     "exception": false,
     "start_time": "2023-07-31T11:25:35.489113",
     "status": "completed"
    },
    "tags": []
   },
   "outputs": [
    {
     "data": {
      "text/html": [
       "<div>\n",
       "<style scoped>\n",
       "    .dataframe tbody tr th:only-of-type {\n",
       "        vertical-align: middle;\n",
       "    }\n",
       "\n",
       "    .dataframe tbody tr th {\n",
       "        vertical-align: top;\n",
       "    }\n",
       "\n",
       "    .dataframe thead th {\n",
       "        text-align: right;\n",
       "    }\n",
       "</style>\n",
       "<table border=\"1\" class=\"dataframe\">\n",
       "  <thead>\n",
       "    <tr style=\"text-align: right;\">\n",
       "      <th></th>\n",
       "      <th>Genre</th>\n",
       "      <th>Age</th>\n",
       "      <th>Annual Income (k$)</th>\n",
       "      <th>Spending Score (1-100)</th>\n",
       "      <th>Claster</th>\n",
       "    </tr>\n",
       "  </thead>\n",
       "  <tbody>\n",
       "    <tr>\n",
       "      <th>0</th>\n",
       "      <td>Male</td>\n",
       "      <td>19</td>\n",
       "      <td>15</td>\n",
       "      <td>39</td>\n",
       "      <td>4</td>\n",
       "    </tr>\n",
       "    <tr>\n",
       "      <th>1</th>\n",
       "      <td>Male</td>\n",
       "      <td>21</td>\n",
       "      <td>15</td>\n",
       "      <td>81</td>\n",
       "      <td>3</td>\n",
       "    </tr>\n",
       "    <tr>\n",
       "      <th>2</th>\n",
       "      <td>Female</td>\n",
       "      <td>20</td>\n",
       "      <td>16</td>\n",
       "      <td>6</td>\n",
       "      <td>4</td>\n",
       "    </tr>\n",
       "    <tr>\n",
       "      <th>3</th>\n",
       "      <td>Female</td>\n",
       "      <td>23</td>\n",
       "      <td>16</td>\n",
       "      <td>77</td>\n",
       "      <td>3</td>\n",
       "    </tr>\n",
       "    <tr>\n",
       "      <th>4</th>\n",
       "      <td>Female</td>\n",
       "      <td>31</td>\n",
       "      <td>17</td>\n",
       "      <td>40</td>\n",
       "      <td>4</td>\n",
       "    </tr>\n",
       "  </tbody>\n",
       "</table>\n",
       "</div>"
      ],
      "text/plain": [
       "    Genre  Age  Annual Income (k$)  Spending Score (1-100)  Claster\n",
       "0    Male   19                  15                      39        4\n",
       "1    Male   21                  15                      81        3\n",
       "2  Female   20                  16                       6        4\n",
       "3  Female   23                  16                      77        3\n",
       "4  Female   31                  17                      40        4"
      ]
     },
     "execution_count": 35,
     "metadata": {},
     "output_type": "execute_result"
    }
   ],
   "source": [
    "HiCl.head()"
   ]
  },
  {
   "cell_type": "code",
   "execution_count": 36,
   "id": "f7c53b73",
   "metadata": {
    "execution": {
     "iopub.execute_input": "2023-07-31T11:25:35.571333Z",
     "iopub.status.busy": "2023-07-31T11:25:35.570886Z",
     "iopub.status.idle": "2023-07-31T11:25:36.115245Z",
     "shell.execute_reply": "2023-07-31T11:25:36.113716Z"
    },
    "papermill": {
     "duration": 0.569923,
     "end_time": "2023-07-31T11:25:36.117958",
     "exception": false,
     "start_time": "2023-07-31T11:25:35.548035",
     "status": "completed"
    },
    "tags": []
   },
   "outputs": [
    {
     "data": {
      "text/plain": [
       "<Axes: xlabel='Annual Income (k$)', ylabel='Spending Score (1-100)'>"
      ]
     },
     "execution_count": 36,
     "metadata": {},
     "output_type": "execute_result"
    },
    {
     "data": {
      "image/png": "[encoded data removed]",
      "text/plain": [
       "<Figure size 640x480 with 1 Axes>"
      ]
     },
     "metadata": {},
     "output_type": "display_data"
    }
   ],
   "source": [
    "sns.scatterplot(x='Annual Income (k$)',y='Spending Score (1-100)',hue=clH.labels_,data=HiCl)"
   ]
  },
  {
   "cell_type": "code",
   "execution_count": null,
   "id": "0b4318c9",
   "metadata": {
    "papermill": {
     "duration": 0.021946,
     "end_time": "2023-07-31T11:25:36.162355",
     "exception": false,
     "start_time": "2023-07-31T11:25:36.140409",
     "status": "completed"
    },
    "tags": []
   },
   "outputs": [],
   "source": []
  }
 ],
 "metadata": {
  "kernelspec": {
   "display_name": "Python 3",
   "language": "python",
   "name": "python3"
  },
  "language_info": {
   "codemirror_mode": {
    "name": "ipython",
    "version": 3
   },
   "file_extension": ".py",
   "mimetype": "text/x-python",
   "name": "python",
   "nbconvert_exporter": "python",
   "pygments_lexer": "ipython3",
   "version": "3.10.12"
  },
  "papermill": {
   "default_parameters": {},
   "duration": 25.370775,
   "end_time": "2023-07-31T11:25:37.307718",
   "environment_variables": {},
   "exception": null,
   "input_path": "__notebook__.ipynb",
   "output_path": "__notebook__.ipynb",
   "parameters": {},
   "start_time": "2023-07-31T11:25:11.936943",
   "version": "2.4.0"
  }
 },
 "nbformat": 4,
 "nbformat_minor": 5
}
